{
  "nbformat": 4,
  "nbformat_minor": 0,
  "metadata": {
    "colab": {
      "name": "Untitled_shashank.ipynb",
      "provenance": [],
      "collapsed_sections": [],
      "machine_shape": "hm"
    },
    "kernelspec": {
      "name": "python3",
      "display_name": "Python 3"
    },
    "language_info": {
      "name": "python"
    }
  },
  "cells": [
    {
      "cell_type": "code",
      "metadata": {
        "colab": {
          "base_uri": "https://localhost:8080/"
        },
        "id": "8qzdlVXXHRZ9",
        "outputId": "8707c0cb-be19-46c4-d2d2-8c9079e22b37"
      },
      "source": [
        "ls"
      ],
      "execution_count": 1,
      "outputs": [
        {
          "output_type": "stream",
          "text": [
            "\u001b[0m\u001b[01;34mdrive\u001b[0m/  \u001b[01;34msample_data\u001b[0m/\n"
          ],
          "name": "stdout"
        }
      ]
    },
    {
      "cell_type": "code",
      "metadata": {
        "colab": {
          "base_uri": "https://localhost:8080/"
        },
        "id": "mbL6Pa82V2lh",
        "outputId": "77699f4a-3997-493a-da41-32e9ec9a97c6"
      },
      "source": [
        "cd /content/drive/MyDrive/Shashank"
      ],
      "execution_count": 2,
      "outputs": [
        {
          "output_type": "stream",
          "text": [
            "/content/drive/MyDrive/Shashank\n"
          ],
          "name": "stdout"
        }
      ]
    },
    {
      "cell_type": "code",
      "metadata": {
        "colab": {
          "base_uri": "https://localhost:8080/"
        },
        "id": "jsh_CvFvV2v0",
        "outputId": "c8d1606f-ded4-4aa5-851e-2ce139240dd5"
      },
      "source": [
        "ls"
      ],
      "execution_count": 3,
      "outputs": [
        {
          "output_type": "stream",
          "text": [
            "abnormal_names.txt  \u001b[0m\u001b[01;34mcat_csv\u001b[0m/     \u001b[01;34mdog_csv\u001b[0m/     \u001b[01;34m__MACOSX\u001b[0m/\n",
            "\u001b[01;34mAugmented_p2\u001b[0m/       cat_csv.zip  dog_csv.zip\n"
          ],
          "name": "stdout"
        }
      ]
    },
    {
      "cell_type": "code",
      "metadata": {
        "id": "tSFDIcvSHmKf"
      },
      "source": [
        "from matplotlib import pyplot\n",
        "import numpy as np\n",
        "import cv2\n",
        "import os\n",
        "import PIL\n",
        "import tensorflow as tf\n",
        "from glob import glob  \n",
        "from tensorflow import keras\n",
        "from tensorflow.keras import layers\n",
        "from tensorflow.keras.models import Sequential\n",
        "import pandas as pd\n",
        "\n",
        "from keras.preprocessing.image import ImageDataGenerator"
      ],
      "execution_count": 4,
      "outputs": []
    },
    {
      "cell_type": "code",
      "metadata": {
        "id": "m6kE1TsxJUie"
      },
      "source": [
        "y = []"
      ],
      "execution_count": 5,
      "outputs": []
    },
    {
      "cell_type": "code",
      "metadata": {
        "id": "q9WvC2CCJWn-"
      },
      "source": [
        "for i in range(0,25000):\n",
        "    if i < 12500:\n",
        "        y.append(int(0))\n",
        "    else:\n",
        "        y.append(int(1))"
      ],
      "execution_count": 6,
      "outputs": []
    },
    {
      "cell_type": "code",
      "metadata": {
        "id": "gjz8z_-WOnXr"
      },
      "source": [
        "# y = []\n",
        "# for i in range(0,25000):\n",
        "#     if i < 12500:\n",
        "#         a = [1,0]\n",
        "#         y.append(a)\n",
        "#     else:\n",
        "#         a = [0,1]\n",
        "#         y.append(a)"
      ],
      "execution_count": 7,
      "outputs": []
    },
    {
      "cell_type": "code",
      "metadata": {
        "id": "C8FZCUe7xwo7"
      },
      "source": [
        "# trdata = ImageDataGenerator()\n",
        "# x = trdata.flow_from_directory(directory=\"cat_csv\",target_size=(224,224))"
      ],
      "execution_count": 8,
      "outputs": []
    },
    {
      "cell_type": "code",
      "metadata": {
        "id": "MYr_-1qAZKrG"
      },
      "source": [
        "import os\n",
        "files = os.listdir(\"cat_csv\")"
      ],
      "execution_count": 9,
      "outputs": []
    },
    {
      "cell_type": "code",
      "metadata": {
        "id": "RzK3aXd8ZgIi"
      },
      "source": [
        "x =[]\n",
        "for i in files:\n",
        "  if i != '.DS_Store':\n",
        "    i = 'cat_csv/'+i\n",
        "    df = pd.read_csv(i)\n",
        "    arr = np.array(df)\n",
        "    res = cv2.resize(arr, dsize=(134, 180), interpolation=cv2.INTER_CUBIC)\n",
        "    x.append(res)"
      ],
      "execution_count": null,
      "outputs": []
    },
    {
      "cell_type": "code",
      "metadata": {
        "id": "5ef-N2T5ZnAX"
      },
      "source": [
        "files = os.listdir(\"dog_csv\")\n",
        "for i in files:\n",
        "  if i != '.DS_Store':\n",
        "    i = 'dog_csv/'+i\n",
        "    df = pd.read_csv(i)\n",
        "    arr = np.array(df)\n",
        "    res = cv2.resize(arr, dsize=(134, 180), interpolation=cv2.INTER_CUBIC)\n",
        "    x.append(res)"
      ],
      "execution_count": null,
      "outputs": []
    },
    {
      "cell_type": "code",
      "metadata": {
        "id": "9xR8yOzubBr6"
      },
      "source": [
        "x = np.array(x)"
      ],
      "execution_count": null,
      "outputs": []
    },
    {
      "cell_type": "code",
      "metadata": {
        "id": "bf9A_BzlcsHo"
      },
      "source": [
        "len(x)"
      ],
      "execution_count": null,
      "outputs": []
    },
    {
      "cell_type": "code",
      "metadata": {
        "id": "8dCvJ00ecyFc"
      },
      "source": [
        "x[0].shape"
      ],
      "execution_count": null,
      "outputs": []
    },
    {
      "cell_type": "code",
      "metadata": {
        "id": "JraPnuJ1c_ag"
      },
      "source": [
        "# x[2].shape"
      ],
      "execution_count": null,
      "outputs": []
    },
    {
      "cell_type": "code",
      "metadata": {
        "id": "TpIYwUd_dE1x"
      },
      "source": [
        "for i in range(0,40):\n",
        "    print(x[i].shape)"
      ],
      "execution_count": null,
      "outputs": []
    },
    {
      "cell_type": "code",
      "metadata": {
        "id": "FpD60LL9hJng"
      },
      "source": [
        "# for i in range(0,len(x)):\n",
        "#     res = cv2.resize(x[i], dsize=(134, 180), interpolation=cv2.INTER_CUBIC)"
      ],
      "execution_count": 18,
      "outputs": []
    },
    {
      "cell_type": "code",
      "metadata": {
        "id": "mFmGwIIIjXUy"
      },
      "source": [
        "from sklearn.model_selection import train_test_split\n",
        "x_train, x_test, y_train, y_test = train_test_split(x, y, test_size=0.30, random_state=314)"
      ],
      "execution_count": null,
      "outputs": []
    },
    {
      "cell_type": "code",
      "metadata": {
        "id": "asXrhWb-l4pD"
      },
      "source": [
        "type(x_train)"
      ],
      "execution_count": null,
      "outputs": []
    },
    {
      "cell_type": "code",
      "metadata": {
        "id": "7iTFnEuP7H5P"
      },
      "source": [
        "type(x_train[0])"
      ],
      "execution_count": null,
      "outputs": []
    },
    {
      "cell_type": "code",
      "metadata": {
        "id": "QL2h_OvKm5OP"
      },
      "source": [
        "from tensorflow.keras import datasets, layers, models"
      ],
      "execution_count": null,
      "outputs": []
    },
    {
      "cell_type": "code",
      "metadata": {
        "id": "Zvcw4EH-BBk4"
      },
      "source": [
        "x_train[0].shape"
      ],
      "execution_count": null,
      "outputs": []
    },
    {
      "cell_type": "code",
      "metadata": {
        "id": "p7KSvB4pA9h0"
      },
      "source": [
        "# for i in range(0,len(x_train)):\n",
        "#     x_train[i] = x_train[i].reshape(1,180,134)"
      ],
      "execution_count": null,
      "outputs": []
    },
    {
      "cell_type": "code",
      "metadata": {
        "id": "Bs8A_3vSBf0J"
      },
      "source": [
        "x_train = x_train.reshape(-1, 180, 134, 1)\n",
        "x_test = x_test.reshape(-1,180, 134,1)"
      ],
      "execution_count": null,
      "outputs": []
    },
    {
      "cell_type": "code",
      "metadata": {
        "id": "AVJwTKR2s9zS"
      },
      "source": [
        "from tensorflow.keras.optimizers import SGD"
      ],
      "execution_count": null,
      "outputs": []
    },
    {
      "cell_type": "code",
      "metadata": {
        "id": "d7jZ-WZuxw55"
      },
      "source": [
        "from tensorflow.keras import optimizers"
      ],
      "execution_count": null,
      "outputs": []
    },
    {
      "cell_type": "code",
      "metadata": {
        "id": "CxQipmuYxxDd"
      },
      "source": [
        ""
      ],
      "execution_count": null,
      "outputs": []
    },
    {
      "cell_type": "code",
      "metadata": {
        "id": "filjQybwnQaU"
      },
      "source": [
        "y_train = np.array(y_train)"
      ],
      "execution_count": null,
      "outputs": []
    },
    {
      "cell_type": "code",
      "metadata": {
        "id": "Y7dnvPzwnmuj"
      },
      "source": [
        "y_test = np.array(y_test)"
      ],
      "execution_count": null,
      "outputs": []
    },
    {
      "cell_type": "code",
      "metadata": {
        "id": "pwp4EAKmE2N3"
      },
      "source": [
        "from keras.layers import Dropout"
      ],
      "execution_count": null,
      "outputs": []
    },
    {
      "cell_type": "code",
      "metadata": {
        "id": "25Pg3zEtl-SQ"
      },
      "source": [
        "cnn = models.Sequential([\n",
        "    layers.Conv2D(filters=134, kernel_size=(3, 3), activation='relu', input_shape=(180, 134,1)), #layer 1\n",
        "    layers.MaxPooling2D((2, 2)),\n",
        "    layers.Dropout(0.25),\n",
        "\n",
        "    layers.Conv2D(filters=134, kernel_size=(3, 3), activation='relu'), #layer 2\n",
        "    layers.MaxPooling2D((2, 2)),\n",
        "    layers.Dropout(0.25),\n",
        "    \n",
        "    layers.Conv2D(filters=134, kernel_size=(3, 3), activation='relu'), #layer 3\n",
        "    layers.MaxPooling2D((2, 2)),\n",
        "    layers.Dropout(0.25),\n",
        "    \n",
        "    layers.Conv2D(filters=134, kernel_size=(3, 3), activation='relu'), #layer 4\n",
        "    layers.MaxPooling2D((2, 2)),\n",
        "    layers.Dropout(0.25),\n",
        "\n",
        "    layers.Flatten(),\n",
        "    layers.Dense(50, activation='relu'), ##reducing nodes\n",
        "    layers.Dense(30, activation='relu'), ##reducing nodes\n",
        "    layers.Dropout(0.3),\n",
        "    layers.Dense(1, activation='sigmoid')\n",
        "])\n",
        "#75% accu:- 4 layers 134 each with dropouts 0.25 and relu lr = 0.001 ann = 50,30,1\n",
        "opt = keras.optimizers.Adam(learning_rate=0.001)\n",
        "cnn.compile(optimizer=opt, \n",
        "              loss='binary_crossentropy',\n",
        "              metrics=['accuracy'])"
      ],
      "execution_count": 47,
      "outputs": []
    },
    {
      "cell_type": "markdown",
      "metadata": {
        "id": "0zlLrTUpxOau"
      },
      "source": [
        "### 77% accuracy in 20 epochs\n",
        "```\n",
        "cnn = models.Sequential([\n",
        "    layers.Conv2D(filters=134, kernel_size=(3, 3), activation='relu', input_shape=(180, 134,1)), #layer 1\n",
        "    layers.MaxPooling2D((2, 2)),\n",
        "    layers.Dropout(0.25),\n",
        "\n",
        "    layers.Conv2D(filters=134, kernel_size=(3, 3), activation='relu'), #layer 2\n",
        "    layers.MaxPooling2D((2, 2)),\n",
        "    layers.Dropout(0.25),\n",
        "    \n",
        "    layers.Conv2D(filters=134, kernel_size=(3, 3), activation='relu'), #layer 3\n",
        "    layers.MaxPooling2D((2, 2)),\n",
        "    layers.Dropout(0.25),\n",
        "    \n",
        "    layers.Conv2D(filters=134, kernel_size=(3, 3), activation='relu'), #layer 4\n",
        "    layers.MaxPooling2D((2, 2)),\n",
        "    layers.Dropout(0.25),\n",
        "\n",
        "    layers.Flatten(),\n",
        "    layers.Dense(50, activation='relu'), ##reducing nodes\n",
        "    layers.Dense(30, activation='relu'), ##reducing nodes\n",
        "    layers.Dropout(0.3),\n",
        "    layers.Dense(1, activation='sigmoid')\n",
        "])\n",
        "#75% accu:- 4 layers 134 each with dropouts 0.25 and relu lr = 0.001 ann = 50,30,1\n",
        "opt = keras.optimizers.Adam(learning_rate=0.001)\n",
        "cnn.compile(optimizer=opt, \n",
        "              loss='binary_crossentropy',\n",
        "              metrics=['accuracy'])\n",
        "```"
      ]
    },
    {
      "cell_type": "code",
      "metadata": {
        "id": "4eJBTR0eHBd6"
      },
      "source": [
        "cnn.summary()"
      ],
      "execution_count": null,
      "outputs": []
    },
    {
      "cell_type": "code",
      "metadata": {
        "id": "UOMlsfKvmtvA",
        "colab": {
          "base_uri": "https://localhost:8080/",
          "height": 1000
        },
        "outputId": "5adfcd43-dcd5-4a3c-f0b1-dcba82a86d1e"
      },
      "source": [
        "cnn.fit(x_train, y_train, epochs=50, batch_size = 64, validation_data=(x_test, y_test)) "
      ],
      "execution_count": 49,
      "outputs": [
        {
          "output_type": "stream",
          "text": [
            "Epoch 1/50\n",
            "274/274 [==============================] - 429s 2s/step - loss: 0.6927 - accuracy: 0.5794 - val_loss: 0.6674 - val_accuracy: 0.5641\n",
            "Epoch 2/50\n",
            "274/274 [==============================] - 436s 2s/step - loss: 0.6387 - accuracy: 0.6425 - val_loss: 0.6410 - val_accuracy: 0.6283\n",
            "Epoch 3/50\n",
            "274/274 [==============================] - 436s 2s/step - loss: 0.6199 - accuracy: 0.6714 - val_loss: 0.5974 - val_accuracy: 0.6880\n",
            "Epoch 4/50\n",
            "274/274 [==============================] - 439s 2s/step - loss: 0.5947 - accuracy: 0.6923 - val_loss: 0.5839 - val_accuracy: 0.6967\n",
            "Epoch 5/50\n",
            "274/274 [==============================] - 435s 2s/step - loss: 0.5736 - accuracy: 0.7119 - val_loss: 0.5706 - val_accuracy: 0.7108\n",
            "Epoch 6/50\n",
            "274/274 [==============================] - 437s 2s/step - loss: 0.5587 - accuracy: 0.7230 - val_loss: 0.5511 - val_accuracy: 0.7327\n",
            "Epoch 7/50\n",
            "274/274 [==============================] - 436s 2s/step - loss: 0.5404 - accuracy: 0.7353 - val_loss: 0.5361 - val_accuracy: 0.7324\n",
            "Epoch 8/50\n",
            "274/274 [==============================] - 438s 2s/step - loss: 0.5227 - accuracy: 0.7462 - val_loss: 0.5533 - val_accuracy: 0.7312\n",
            "Epoch 9/50\n",
            "274/274 [==============================] - 436s 2s/step - loss: 0.5088 - accuracy: 0.7539 - val_loss: 0.5562 - val_accuracy: 0.7332\n",
            "Epoch 10/50\n",
            "274/274 [==============================] - 436s 2s/step - loss: 0.4974 - accuracy: 0.7582 - val_loss: 0.5094 - val_accuracy: 0.7545\n",
            "Epoch 11/50\n",
            "274/274 [==============================] - 440s 2s/step - loss: 0.4794 - accuracy: 0.7737 - val_loss: 0.5115 - val_accuracy: 0.7569\n",
            "Epoch 12/50\n",
            "274/274 [==============================] - 437s 2s/step - loss: 0.4714 - accuracy: 0.7760 - val_loss: 0.4983 - val_accuracy: 0.7613\n",
            "Epoch 13/50\n",
            "274/274 [==============================] - 436s 2s/step - loss: 0.4449 - accuracy: 0.7949 - val_loss: 0.4989 - val_accuracy: 0.7641\n",
            "Epoch 14/50\n",
            "274/274 [==============================] - 438s 2s/step - loss: 0.4359 - accuracy: 0.7971 - val_loss: 0.4963 - val_accuracy: 0.7676\n",
            "Epoch 15/50\n",
            "274/274 [==============================] - 437s 2s/step - loss: 0.4211 - accuracy: 0.8064 - val_loss: 0.4968 - val_accuracy: 0.7615\n",
            "Epoch 16/50\n",
            "274/274 [==============================] - 437s 2s/step - loss: 0.4060 - accuracy: 0.8122 - val_loss: 0.4928 - val_accuracy: 0.7732\n",
            "Epoch 17/50\n",
            "274/274 [==============================] - 437s 2s/step - loss: 0.3970 - accuracy: 0.8160 - val_loss: 0.4858 - val_accuracy: 0.7728\n",
            "Epoch 18/50\n",
            "274/274 [==============================] - 439s 2s/step - loss: 0.3811 - accuracy: 0.8274 - val_loss: 0.5027 - val_accuracy: 0.7733\n",
            "Epoch 19/50\n",
            "274/274 [==============================] - 438s 2s/step - loss: 0.3720 - accuracy: 0.8304 - val_loss: 0.4895 - val_accuracy: 0.7739\n",
            "Epoch 20/50\n",
            " 29/274 [==>...........................] - ETA: 6:06 - loss: 0.3559 - accuracy: 0.8443"
          ],
          "name": "stdout"
        },
        {
          "output_type": "error",
          "ename": "KeyboardInterrupt",
          "evalue": "ignored",
          "traceback": [
            "\u001b[0;31m---------------------------------------------------------------------------\u001b[0m",
            "\u001b[0;31mKeyboardInterrupt\u001b[0m                         Traceback (most recent call last)",
            "\u001b[0;32m<ipython-input-49-99a990dbfb2c>\u001b[0m in \u001b[0;36m<module>\u001b[0;34m()\u001b[0m\n\u001b[0;32m----> 1\u001b[0;31m \u001b[0mcnn\u001b[0m\u001b[0;34m.\u001b[0m\u001b[0mfit\u001b[0m\u001b[0;34m(\u001b[0m\u001b[0mx_train\u001b[0m\u001b[0;34m,\u001b[0m \u001b[0my_train\u001b[0m\u001b[0;34m,\u001b[0m \u001b[0mepochs\u001b[0m\u001b[0;34m=\u001b[0m\u001b[0;36m50\u001b[0m\u001b[0;34m,\u001b[0m \u001b[0mbatch_size\u001b[0m \u001b[0;34m=\u001b[0m \u001b[0;36m64\u001b[0m\u001b[0;34m,\u001b[0m \u001b[0mvalidation_data\u001b[0m\u001b[0;34m=\u001b[0m\u001b[0;34m(\u001b[0m\u001b[0mx_test\u001b[0m\u001b[0;34m,\u001b[0m \u001b[0my_test\u001b[0m\u001b[0;34m)\u001b[0m\u001b[0;34m)\u001b[0m\u001b[0;34m\u001b[0m\u001b[0;34m\u001b[0m\u001b[0m\n\u001b[0m",
            "\u001b[0;32m/usr/local/lib/python3.7/dist-packages/keras/engine/training.py\u001b[0m in \u001b[0;36mfit\u001b[0;34m(self, x, y, batch_size, epochs, verbose, callbacks, validation_split, validation_data, shuffle, class_weight, sample_weight, initial_epoch, steps_per_epoch, validation_steps, validation_batch_size, validation_freq, max_queue_size, workers, use_multiprocessing)\u001b[0m\n\u001b[1;32m   1182\u001b[0m                 _r=1):\n\u001b[1;32m   1183\u001b[0m               \u001b[0mcallbacks\u001b[0m\u001b[0;34m.\u001b[0m\u001b[0mon_train_batch_begin\u001b[0m\u001b[0;34m(\u001b[0m\u001b[0mstep\u001b[0m\u001b[0;34m)\u001b[0m\u001b[0;34m\u001b[0m\u001b[0;34m\u001b[0m\u001b[0m\n\u001b[0;32m-> 1184\u001b[0;31m               \u001b[0mtmp_logs\u001b[0m \u001b[0;34m=\u001b[0m \u001b[0mself\u001b[0m\u001b[0;34m.\u001b[0m\u001b[0mtrain_function\u001b[0m\u001b[0;34m(\u001b[0m\u001b[0miterator\u001b[0m\u001b[0;34m)\u001b[0m\u001b[0;34m\u001b[0m\u001b[0;34m\u001b[0m\u001b[0m\n\u001b[0m\u001b[1;32m   1185\u001b[0m               \u001b[0;32mif\u001b[0m \u001b[0mdata_handler\u001b[0m\u001b[0;34m.\u001b[0m\u001b[0mshould_sync\u001b[0m\u001b[0;34m:\u001b[0m\u001b[0;34m\u001b[0m\u001b[0;34m\u001b[0m\u001b[0m\n\u001b[1;32m   1186\u001b[0m                 \u001b[0mcontext\u001b[0m\u001b[0;34m.\u001b[0m\u001b[0masync_wait\u001b[0m\u001b[0;34m(\u001b[0m\u001b[0;34m)\u001b[0m\u001b[0;34m\u001b[0m\u001b[0;34m\u001b[0m\u001b[0m\n",
            "\u001b[0;32m/usr/local/lib/python3.7/dist-packages/tensorflow/python/eager/def_function.py\u001b[0m in \u001b[0;36m__call__\u001b[0;34m(self, *args, **kwds)\u001b[0m\n\u001b[1;32m    883\u001b[0m \u001b[0;34m\u001b[0m\u001b[0m\n\u001b[1;32m    884\u001b[0m       \u001b[0;32mwith\u001b[0m \u001b[0mOptionalXlaContext\u001b[0m\u001b[0;34m(\u001b[0m\u001b[0mself\u001b[0m\u001b[0;34m.\u001b[0m\u001b[0m_jit_compile\u001b[0m\u001b[0;34m)\u001b[0m\u001b[0;34m:\u001b[0m\u001b[0;34m\u001b[0m\u001b[0;34m\u001b[0m\u001b[0m\n\u001b[0;32m--> 885\u001b[0;31m         \u001b[0mresult\u001b[0m \u001b[0;34m=\u001b[0m \u001b[0mself\u001b[0m\u001b[0;34m.\u001b[0m\u001b[0m_call\u001b[0m\u001b[0;34m(\u001b[0m\u001b[0;34m*\u001b[0m\u001b[0margs\u001b[0m\u001b[0;34m,\u001b[0m \u001b[0;34m**\u001b[0m\u001b[0mkwds\u001b[0m\u001b[0;34m)\u001b[0m\u001b[0;34m\u001b[0m\u001b[0;34m\u001b[0m\u001b[0m\n\u001b[0m\u001b[1;32m    886\u001b[0m \u001b[0;34m\u001b[0m\u001b[0m\n\u001b[1;32m    887\u001b[0m       \u001b[0mnew_tracing_count\u001b[0m \u001b[0;34m=\u001b[0m \u001b[0mself\u001b[0m\u001b[0;34m.\u001b[0m\u001b[0mexperimental_get_tracing_count\u001b[0m\u001b[0;34m(\u001b[0m\u001b[0;34m)\u001b[0m\u001b[0;34m\u001b[0m\u001b[0;34m\u001b[0m\u001b[0m\n",
            "\u001b[0;32m/usr/local/lib/python3.7/dist-packages/tensorflow/python/eager/def_function.py\u001b[0m in \u001b[0;36m_call\u001b[0;34m(self, *args, **kwds)\u001b[0m\n\u001b[1;32m    915\u001b[0m       \u001b[0;31m# In this case we have created variables on the first call, so we run the\u001b[0m\u001b[0;34m\u001b[0m\u001b[0;34m\u001b[0m\u001b[0;34m\u001b[0m\u001b[0m\n\u001b[1;32m    916\u001b[0m       \u001b[0;31m# defunned version which is guaranteed to never create variables.\u001b[0m\u001b[0;34m\u001b[0m\u001b[0;34m\u001b[0m\u001b[0;34m\u001b[0m\u001b[0m\n\u001b[0;32m--> 917\u001b[0;31m       \u001b[0;32mreturn\u001b[0m \u001b[0mself\u001b[0m\u001b[0;34m.\u001b[0m\u001b[0m_stateless_fn\u001b[0m\u001b[0;34m(\u001b[0m\u001b[0;34m*\u001b[0m\u001b[0margs\u001b[0m\u001b[0;34m,\u001b[0m \u001b[0;34m**\u001b[0m\u001b[0mkwds\u001b[0m\u001b[0;34m)\u001b[0m  \u001b[0;31m# pylint: disable=not-callable\u001b[0m\u001b[0;34m\u001b[0m\u001b[0;34m\u001b[0m\u001b[0m\n\u001b[0m\u001b[1;32m    918\u001b[0m     \u001b[0;32melif\u001b[0m \u001b[0mself\u001b[0m\u001b[0;34m.\u001b[0m\u001b[0m_stateful_fn\u001b[0m \u001b[0;32mis\u001b[0m \u001b[0;32mnot\u001b[0m \u001b[0;32mNone\u001b[0m\u001b[0;34m:\u001b[0m\u001b[0;34m\u001b[0m\u001b[0;34m\u001b[0m\u001b[0m\n\u001b[1;32m    919\u001b[0m       \u001b[0;31m# Release the lock early so that multiple threads can perform the call\u001b[0m\u001b[0;34m\u001b[0m\u001b[0;34m\u001b[0m\u001b[0;34m\u001b[0m\u001b[0m\n",
            "\u001b[0;32m/usr/local/lib/python3.7/dist-packages/tensorflow/python/eager/function.py\u001b[0m in \u001b[0;36m__call__\u001b[0;34m(self, *args, **kwargs)\u001b[0m\n\u001b[1;32m   3038\u001b[0m        filtered_flat_args) = self._maybe_define_function(args, kwargs)\n\u001b[1;32m   3039\u001b[0m     return graph_function._call_flat(\n\u001b[0;32m-> 3040\u001b[0;31m         filtered_flat_args, captured_inputs=graph_function.captured_inputs)  # pylint: disable=protected-access\n\u001b[0m\u001b[1;32m   3041\u001b[0m \u001b[0;34m\u001b[0m\u001b[0m\n\u001b[1;32m   3042\u001b[0m   \u001b[0;34m@\u001b[0m\u001b[0mproperty\u001b[0m\u001b[0;34m\u001b[0m\u001b[0;34m\u001b[0m\u001b[0m\n",
            "\u001b[0;32m/usr/local/lib/python3.7/dist-packages/tensorflow/python/eager/function.py\u001b[0m in \u001b[0;36m_call_flat\u001b[0;34m(self, args, captured_inputs, cancellation_manager)\u001b[0m\n\u001b[1;32m   1962\u001b[0m       \u001b[0;31m# No tape is watching; skip to running the function.\u001b[0m\u001b[0;34m\u001b[0m\u001b[0;34m\u001b[0m\u001b[0;34m\u001b[0m\u001b[0m\n\u001b[1;32m   1963\u001b[0m       return self._build_call_outputs(self._inference_function.call(\n\u001b[0;32m-> 1964\u001b[0;31m           ctx, args, cancellation_manager=cancellation_manager))\n\u001b[0m\u001b[1;32m   1965\u001b[0m     forward_backward = self._select_forward_and_backward_functions(\n\u001b[1;32m   1966\u001b[0m         \u001b[0margs\u001b[0m\u001b[0;34m,\u001b[0m\u001b[0;34m\u001b[0m\u001b[0;34m\u001b[0m\u001b[0m\n",
            "\u001b[0;32m/usr/local/lib/python3.7/dist-packages/tensorflow/python/eager/function.py\u001b[0m in \u001b[0;36mcall\u001b[0;34m(self, ctx, args, cancellation_manager)\u001b[0m\n\u001b[1;32m    594\u001b[0m               \u001b[0minputs\u001b[0m\u001b[0;34m=\u001b[0m\u001b[0margs\u001b[0m\u001b[0;34m,\u001b[0m\u001b[0;34m\u001b[0m\u001b[0;34m\u001b[0m\u001b[0m\n\u001b[1;32m    595\u001b[0m               \u001b[0mattrs\u001b[0m\u001b[0;34m=\u001b[0m\u001b[0mattrs\u001b[0m\u001b[0;34m,\u001b[0m\u001b[0;34m\u001b[0m\u001b[0;34m\u001b[0m\u001b[0m\n\u001b[0;32m--> 596\u001b[0;31m               ctx=ctx)\n\u001b[0m\u001b[1;32m    597\u001b[0m         \u001b[0;32melse\u001b[0m\u001b[0;34m:\u001b[0m\u001b[0;34m\u001b[0m\u001b[0;34m\u001b[0m\u001b[0m\n\u001b[1;32m    598\u001b[0m           outputs = execute.execute_with_cancellation(\n",
            "\u001b[0;32m/usr/local/lib/python3.7/dist-packages/tensorflow/python/eager/execute.py\u001b[0m in \u001b[0;36mquick_execute\u001b[0;34m(op_name, num_outputs, inputs, attrs, ctx, name)\u001b[0m\n\u001b[1;32m     58\u001b[0m     \u001b[0mctx\u001b[0m\u001b[0;34m.\u001b[0m\u001b[0mensure_initialized\u001b[0m\u001b[0;34m(\u001b[0m\u001b[0;34m)\u001b[0m\u001b[0;34m\u001b[0m\u001b[0;34m\u001b[0m\u001b[0m\n\u001b[1;32m     59\u001b[0m     tensors = pywrap_tfe.TFE_Py_Execute(ctx._handle, device_name, op_name,\n\u001b[0;32m---> 60\u001b[0;31m                                         inputs, attrs, num_outputs)\n\u001b[0m\u001b[1;32m     61\u001b[0m   \u001b[0;32mexcept\u001b[0m \u001b[0mcore\u001b[0m\u001b[0;34m.\u001b[0m\u001b[0m_NotOkStatusException\u001b[0m \u001b[0;32mas\u001b[0m \u001b[0me\u001b[0m\u001b[0;34m:\u001b[0m\u001b[0;34m\u001b[0m\u001b[0;34m\u001b[0m\u001b[0m\n\u001b[1;32m     62\u001b[0m     \u001b[0;32mif\u001b[0m \u001b[0mname\u001b[0m \u001b[0;32mis\u001b[0m \u001b[0;32mnot\u001b[0m \u001b[0;32mNone\u001b[0m\u001b[0;34m:\u001b[0m\u001b[0;34m\u001b[0m\u001b[0;34m\u001b[0m\u001b[0m\n",
            "\u001b[0;31mKeyboardInterrupt\u001b[0m: "
          ]
        }
      ]
    },
    {
      "cell_type": "code",
      "metadata": {
        "id": "U4C4Vo1LxmiC"
      },
      "source": [
        "from tensorflow.keras import regularizers\n",
        "\n",
        "from keras.layers import UpSampling2D"
      ],
      "execution_count": null,
      "outputs": []
    },
    {
      "cell_type": "code",
      "metadata": {
        "id": "INf2zhtuwrAv"
      },
      "source": [
        "import gc\n",
        "import pandas as pd\n",
        "\n",
        "del(df)\n",
        "gc.collect()\n",
        "df=pd.DataFrame()"
      ],
      "execution_count": null,
      "outputs": []
    },
    {
      "cell_type": "code",
      "metadata": {
        "id": "xPkc8_7kwzy1"
      },
      "source": [
        "cnn_l2 = models.Sequential([\n",
        "                            layers.UpSampling2D(input_shape=(180, 134,1)),\n",
        "                            layers.UpSampling2D(),\n",
        "\n",
        "    layers.Conv2D(filters=134, kernel_size=(4, 4), activation='relu', input_shape=(180, 134,1)), #layer 1\n",
        "    layers.MaxPooling2D((3, 3)),\n",
        "    layers.Dropout(0.15),\n",
        " \n",
        "    layers.Conv2D(filters=134, kernel_size=(3, 3), activation='relu'), #layer 2\n",
        "    layers.MaxPooling2D((2, 2)),\n",
        "    layers.Dropout(0.15),\n",
        " \n",
        "    layers.Conv2D(filters=134, kernel_size=(3, 3), activation='relu'), #layer 3\n",
        "    layers.MaxPooling2D((2, 2)),\n",
        "    layers.Dropout(0.15),\n",
        " \n",
        "    layers.Conv2D(filters=134, kernel_size=(3, 3), activation='relu'), #layer 4\n",
        "    layers.MaxPooling2D((2, 2)),\n",
        "    layers.Dropout(0.15),\n",
        " \n",
        "    layers.Flatten(),\n",
        "   layers.Dense(\n",
        "    units=64,\n",
        "    kernel_regularizer=regularizers.l1_l2(l1=1e-6, l2=1e-5),\n",
        "    bias_regularizer=regularizers.l2(1e-5),\n",
        "    activity_regularizer=regularizers.l2(1e-6)),\n",
        "    layers.Dropout(0.3),\n",
        "    layers.Dense(50, activation='relu'), ##reducing nodes\n",
        "    # layers.Dropout(0.3),\n",
        "    layers.Dense(1, activation='sigmoid')\n",
        "])\n",
        "# lr_schedule = keras.optimizers.schedules.ExponentialDecay(\n",
        "#     initial_learning_rate=1e-2,\n",
        "#     decay_steps=10000,\n",
        "#     decay_rate=0.9)\n",
        "opt = optimizers.Adam(learning_rate=0.001)\n",
        "cnn_l2.compile(optimizer=opt, \n",
        "              loss='binary_crossentropy',\n",
        "              metrics=['accuracy'])\n",
        "cnn_l2.fit(x_train, y_train, epochs=50, batch_size = 64, validation_data=(x_test, y_test))"
      ],
      "execution_count": null,
      "outputs": []
    },
    {
      "cell_type": "markdown",
      "metadata": {
        "id": "9uJ_rojHhn3R"
      },
      "source": [
        "### 79% top\n",
        "```\n",
        "cnn_l2 = models.Sequential([\n",
        "    layers.Conv2D(filters=134, kernel_size=(3, 3), activation='relu', input_shape=(180, 134,1)), #layer 1\n",
        "    layers.MaxPooling2D((2, 2)),\n",
        "    layers.Dropout(0.25),\n",
        " \n",
        "    layers.Conv2D(filters=134, kernel_size=(3, 3), activation='relu'), #layer 2\n",
        "    layers.MaxPooling2D((2, 2)),\n",
        "    layers.Dropout(0.25),\n",
        " \n",
        "    layers.Conv2D(filters=134, kernel_size=(3, 3), activation='relu'), #layer 3\n",
        "    layers.MaxPooling2D((2, 2)),\n",
        "    layers.Dropout(0.25),\n",
        " \n",
        "    layers.Conv2D(filters=134, kernel_size=(3, 3), activation='relu'), #layer 4\n",
        "    layers.MaxPooling2D((2, 2)),\n",
        "    layers.Dropout(0.25),\n",
        " \n",
        "    layers.Flatten(),\n",
        "   layers.Dense(\n",
        "    units=64,\n",
        "    kernel_regularizer=regularizers.l1_l2(l1=1e-5, l2=1e-4),\n",
        "    bias_regularizer=regularizers.l2(1e-4),\n",
        "    activity_regularizer=regularizers.l2(1e-5)),\n",
        "    layers.Dense(50, activation='relu'), ##reducing nodes\n",
        "    layers.Dropout(0.3),\n",
        "    layers.Dense(1, activation='sigmoid')\n",
        "])\n",
        "# lr_schedule = keras.optimizers.schedules.ExponentialDecay(\n",
        "#     initial_learning_rate=1e-2,\n",
        "#     decay_steps=10000,\n",
        "#     decay_rate=0.9)\n",
        "opt = optimizers.Adam(learning_rate=0.001)\n",
        "cnn_l2.compile(optimizer=opt, \n",
        "              loss='binary_crossentropy',\n",
        "              metrics=['accuracy'])\n",
        "cnn_l2.fit(x_train, y_train, epochs=50, batch_size = 64, validation_data=(x_test, y_test))\n",
        "```"
      ]
    },
    {
      "cell_type": "code",
      "metadata": {
        "id": "ed7AXNcXsJ19"
      },
      "source": [
        "from keras.models import load_model\n",
        "from sklearn.datasets import load_files   \n",
        "from keras.utils import np_utils\n",
        "from glob import glob\n",
        "from keras import applications\n",
        "from keras.preprocessing.image import ImageDataGenerator \n",
        "from keras import optimizers\n",
        "from keras.models import Sequential,Model,load_model\n",
        "from keras.layers import Dense, Dropout, Flatten, Conv2D, MaxPool2D,GlobalAveragePooling2D\n",
        "from keras.callbacks import TensorBoard,ReduceLROnPlateau,ModelCheckpoint\n",
        "from keras.applications.resnet import ResNet50"
      ],
      "execution_count": 36,
      "outputs": []
    },
    {
      "cell_type": "code",
      "metadata": {
        "id": "0yCS0I1yxERs"
      },
      "source": [
        "img_height,img_width = 180,134 \n",
        "num_classes = 1\n",
        "base_model = ResNet50(weights= None, include_top=False, input_shape= (img_height,img_width,1))"
      ],
      "execution_count": 37,
      "outputs": []
    },
    {
      "cell_type": "code",
      "metadata": {
        "id": "mATSTAU7zQzg"
      },
      "source": [
        "x = base_model.output\n",
        "x = GlobalAveragePooling2D()(x)\n",
        "x = Dropout(0.7)(x)\n",
        "predictions = Dense(num_classes, activation= 'sigmoid')(x)\n",
        "ResNet = Model(inputs = base_model.input, outputs = predictions)"
      ],
      "execution_count": 38,
      "outputs": []
    },
    {
      "cell_type": "code",
      "metadata": {
        "id": "-OH8w758sW_k"
      },
      "source": [
        "from tensorflow.keras.optimizers import Adam\n",
        "# sgd = SGD(lr=lrate, momentum=0.9, decay=decay, nesterov=False)\n",
        "adam = Adam(learning_rate=0.01)\n",
        "ResNet.compile(optimizer= adam, loss='binary_crossentropy', metrics=['accuracy'])"
      ],
      "execution_count": 39,
      "outputs": []
    },
    {
      "cell_type": "code",
      "metadata": {
        "colab": {
          "base_uri": "https://localhost:8080/",
          "height": 1000
        },
        "id": "8d72y6nosefL",
        "outputId": "c1955688-2625-42e4-ee74-2de5afdfd775"
      },
      "source": [
        "ResNet.fit(x_train, y_train, epochs = 50, batch_size = 64,validation_data=(x_test, y_test))"
      ],
      "execution_count": 40,
      "outputs": [
        {
          "output_type": "stream",
          "text": [
            "Epoch 1/50\n",
            "274/274 [==============================] - 644s 2s/step - loss: 0.9733 - accuracy: 0.5537 - val_loss: 14.6880 - val_accuracy: 0.5804\n",
            "Epoch 2/50\n",
            "274/274 [==============================] - 653s 2s/step - loss: 0.8625 - accuracy: 0.5766 - val_loss: 12.8291 - val_accuracy: 0.5581\n",
            "Epoch 3/50\n",
            "274/274 [==============================] - 665s 2s/step - loss: 0.8078 - accuracy: 0.5957 - val_loss: 0.7057 - val_accuracy: 0.4996\n",
            "Epoch 4/50\n",
            "274/274 [==============================] - 660s 2s/step - loss: 0.7831 - accuracy: 0.5277 - val_loss: 0.7054 - val_accuracy: 0.5412\n",
            "Epoch 5/50\n",
            "274/274 [==============================] - 653s 2s/step - loss: 0.7727 - accuracy: 0.5435 - val_loss: 1.1959 - val_accuracy: 0.5004\n",
            "Epoch 6/50\n",
            "274/274 [==============================] - 662s 2s/step - loss: 0.7689 - accuracy: 0.5891 - val_loss: 1.2860 - val_accuracy: 0.4997\n",
            "Epoch 7/50\n",
            "274/274 [==============================] - 665s 2s/step - loss: 0.7632 - accuracy: 0.5762 - val_loss: 0.6961 - val_accuracy: 0.5033\n",
            "Epoch 8/50\n",
            "274/274 [==============================] - 669s 2s/step - loss: 0.7378 - accuracy: 0.5626 - val_loss: 0.9669 - val_accuracy: 0.4901\n",
            "Epoch 9/50\n",
            "274/274 [==============================] - 657s 2s/step - loss: 0.6999 - accuracy: 0.5898 - val_loss: 0.6625 - val_accuracy: 0.6020\n",
            "Epoch 10/50\n",
            "274/274 [==============================] - 650s 2s/step - loss: 0.6794 - accuracy: 0.6153 - val_loss: 0.6829 - val_accuracy: 0.6196\n",
            "Epoch 11/50\n",
            "274/274 [==============================] - 657s 2s/step - loss: 0.6615 - accuracy: 0.6319 - val_loss: 0.7950 - val_accuracy: 0.5267\n",
            "Epoch 12/50\n",
            "274/274 [==============================] - 653s 2s/step - loss: 0.6542 - accuracy: 0.6378 - val_loss: 0.8872 - val_accuracy: 0.5913\n",
            "Epoch 13/50\n",
            "274/274 [==============================] - 657s 2s/step - loss: 0.6470 - accuracy: 0.6462 - val_loss: 0.6341 - val_accuracy: 0.6456\n",
            "Epoch 14/50\n",
            "274/274 [==============================] - 665s 2s/step - loss: 0.6312 - accuracy: 0.6520 - val_loss: 0.6582 - val_accuracy: 0.6227\n",
            "Epoch 15/50\n",
            "274/274 [==============================] - 649s 2s/step - loss: 0.6215 - accuracy: 0.6595 - val_loss: 0.6234 - val_accuracy: 0.6535\n",
            "Epoch 16/50\n",
            "274/274 [==============================] - 648s 2s/step - loss: 0.6138 - accuracy: 0.6648 - val_loss: 0.7764 - val_accuracy: 0.6257\n",
            "Epoch 17/50\n",
            "274/274 [==============================] - 648s 2s/step - loss: 0.6133 - accuracy: 0.6639 - val_loss: 0.6171 - val_accuracy: 0.6484\n",
            "Epoch 18/50\n",
            "274/274 [==============================] - 646s 2s/step - loss: 0.6075 - accuracy: 0.6702 - val_loss: 0.8054 - val_accuracy: 0.6300\n",
            "Epoch 19/50\n",
            "274/274 [==============================] - 648s 2s/step - loss: 0.6022 - accuracy: 0.6789 - val_loss: 0.7062 - val_accuracy: 0.6439\n",
            "Epoch 20/50\n",
            "274/274 [==============================] - 644s 2s/step - loss: 0.5971 - accuracy: 0.6822 - val_loss: 0.6724 - val_accuracy: 0.6124\n",
            "Epoch 21/50\n",
            "274/274 [==============================] - 664s 2s/step - loss: 0.5946 - accuracy: 0.6834 - val_loss: 0.6465 - val_accuracy: 0.6029\n",
            "Epoch 22/50\n",
            "274/274 [==============================] - 645s 2s/step - loss: 0.5907 - accuracy: 0.6854 - val_loss: 0.6494 - val_accuracy: 0.6324\n",
            "Epoch 23/50\n",
            "274/274 [==============================] - 662s 2s/step - loss: 0.5868 - accuracy: 0.6883 - val_loss: 0.6758 - val_accuracy: 0.6419\n",
            "Epoch 24/50\n",
            "274/274 [==============================] - 648s 2s/step - loss: 0.5827 - accuracy: 0.6952 - val_loss: 0.6093 - val_accuracy: 0.6737\n",
            "Epoch 25/50\n",
            "274/274 [==============================] - 666s 2s/step - loss: 0.5765 - accuracy: 0.6979 - val_loss: 0.6570 - val_accuracy: 0.6459\n",
            "Epoch 26/50\n",
            " 20/274 [=>............................] - ETA: 9:19 - loss: 0.5901 - accuracy: 0.6852"
          ],
          "name": "stdout"
        },
        {
          "output_type": "error",
          "ename": "KeyboardInterrupt",
          "evalue": "ignored",
          "traceback": [
            "\u001b[0;31m---------------------------------------------------------------------------\u001b[0m",
            "\u001b[0;31mKeyboardInterrupt\u001b[0m                         Traceback (most recent call last)",
            "\u001b[0;32m<ipython-input-40-2e9f423b0182>\u001b[0m in \u001b[0;36m<module>\u001b[0;34m()\u001b[0m\n\u001b[0;32m----> 1\u001b[0;31m \u001b[0mResNet\u001b[0m\u001b[0;34m.\u001b[0m\u001b[0mfit\u001b[0m\u001b[0;34m(\u001b[0m\u001b[0mx_train\u001b[0m\u001b[0;34m,\u001b[0m \u001b[0my_train\u001b[0m\u001b[0;34m,\u001b[0m \u001b[0mepochs\u001b[0m \u001b[0;34m=\u001b[0m \u001b[0;36m50\u001b[0m\u001b[0;34m,\u001b[0m \u001b[0mbatch_size\u001b[0m \u001b[0;34m=\u001b[0m \u001b[0;36m64\u001b[0m\u001b[0;34m,\u001b[0m\u001b[0mvalidation_data\u001b[0m\u001b[0;34m=\u001b[0m\u001b[0;34m(\u001b[0m\u001b[0mx_test\u001b[0m\u001b[0;34m,\u001b[0m \u001b[0my_test\u001b[0m\u001b[0;34m)\u001b[0m\u001b[0;34m)\u001b[0m\u001b[0;34m\u001b[0m\u001b[0;34m\u001b[0m\u001b[0m\n\u001b[0m",
            "\u001b[0;32m/usr/local/lib/python3.7/dist-packages/keras/engine/training.py\u001b[0m in \u001b[0;36mfit\u001b[0;34m(self, x, y, batch_size, epochs, verbose, callbacks, validation_split, validation_data, shuffle, class_weight, sample_weight, initial_epoch, steps_per_epoch, validation_steps, validation_batch_size, validation_freq, max_queue_size, workers, use_multiprocessing)\u001b[0m\n\u001b[1;32m   1182\u001b[0m                 _r=1):\n\u001b[1;32m   1183\u001b[0m               \u001b[0mcallbacks\u001b[0m\u001b[0;34m.\u001b[0m\u001b[0mon_train_batch_begin\u001b[0m\u001b[0;34m(\u001b[0m\u001b[0mstep\u001b[0m\u001b[0;34m)\u001b[0m\u001b[0;34m\u001b[0m\u001b[0;34m\u001b[0m\u001b[0m\n\u001b[0;32m-> 1184\u001b[0;31m               \u001b[0mtmp_logs\u001b[0m \u001b[0;34m=\u001b[0m \u001b[0mself\u001b[0m\u001b[0;34m.\u001b[0m\u001b[0mtrain_function\u001b[0m\u001b[0;34m(\u001b[0m\u001b[0miterator\u001b[0m\u001b[0;34m)\u001b[0m\u001b[0;34m\u001b[0m\u001b[0;34m\u001b[0m\u001b[0m\n\u001b[0m\u001b[1;32m   1185\u001b[0m               \u001b[0;32mif\u001b[0m \u001b[0mdata_handler\u001b[0m\u001b[0;34m.\u001b[0m\u001b[0mshould_sync\u001b[0m\u001b[0;34m:\u001b[0m\u001b[0;34m\u001b[0m\u001b[0;34m\u001b[0m\u001b[0m\n\u001b[1;32m   1186\u001b[0m                 \u001b[0mcontext\u001b[0m\u001b[0;34m.\u001b[0m\u001b[0masync_wait\u001b[0m\u001b[0;34m(\u001b[0m\u001b[0;34m)\u001b[0m\u001b[0;34m\u001b[0m\u001b[0;34m\u001b[0m\u001b[0m\n",
            "\u001b[0;32m/usr/local/lib/python3.7/dist-packages/tensorflow/python/eager/def_function.py\u001b[0m in \u001b[0;36m__call__\u001b[0;34m(self, *args, **kwds)\u001b[0m\n\u001b[1;32m    883\u001b[0m \u001b[0;34m\u001b[0m\u001b[0m\n\u001b[1;32m    884\u001b[0m       \u001b[0;32mwith\u001b[0m \u001b[0mOptionalXlaContext\u001b[0m\u001b[0;34m(\u001b[0m\u001b[0mself\u001b[0m\u001b[0;34m.\u001b[0m\u001b[0m_jit_compile\u001b[0m\u001b[0;34m)\u001b[0m\u001b[0;34m:\u001b[0m\u001b[0;34m\u001b[0m\u001b[0;34m\u001b[0m\u001b[0m\n\u001b[0;32m--> 885\u001b[0;31m         \u001b[0mresult\u001b[0m \u001b[0;34m=\u001b[0m \u001b[0mself\u001b[0m\u001b[0;34m.\u001b[0m\u001b[0m_call\u001b[0m\u001b[0;34m(\u001b[0m\u001b[0;34m*\u001b[0m\u001b[0margs\u001b[0m\u001b[0;34m,\u001b[0m \u001b[0;34m**\u001b[0m\u001b[0mkwds\u001b[0m\u001b[0;34m)\u001b[0m\u001b[0;34m\u001b[0m\u001b[0;34m\u001b[0m\u001b[0m\n\u001b[0m\u001b[1;32m    886\u001b[0m \u001b[0;34m\u001b[0m\u001b[0m\n\u001b[1;32m    887\u001b[0m       \u001b[0mnew_tracing_count\u001b[0m \u001b[0;34m=\u001b[0m \u001b[0mself\u001b[0m\u001b[0;34m.\u001b[0m\u001b[0mexperimental_get_tracing_count\u001b[0m\u001b[0;34m(\u001b[0m\u001b[0;34m)\u001b[0m\u001b[0;34m\u001b[0m\u001b[0;34m\u001b[0m\u001b[0m\n",
            "\u001b[0;32m/usr/local/lib/python3.7/dist-packages/tensorflow/python/eager/def_function.py\u001b[0m in \u001b[0;36m_call\u001b[0;34m(self, *args, **kwds)\u001b[0m\n\u001b[1;32m    915\u001b[0m       \u001b[0;31m# In this case we have created variables on the first call, so we run the\u001b[0m\u001b[0;34m\u001b[0m\u001b[0;34m\u001b[0m\u001b[0;34m\u001b[0m\u001b[0m\n\u001b[1;32m    916\u001b[0m       \u001b[0;31m# defunned version which is guaranteed to never create variables.\u001b[0m\u001b[0;34m\u001b[0m\u001b[0;34m\u001b[0m\u001b[0;34m\u001b[0m\u001b[0m\n\u001b[0;32m--> 917\u001b[0;31m       \u001b[0;32mreturn\u001b[0m \u001b[0mself\u001b[0m\u001b[0;34m.\u001b[0m\u001b[0m_stateless_fn\u001b[0m\u001b[0;34m(\u001b[0m\u001b[0;34m*\u001b[0m\u001b[0margs\u001b[0m\u001b[0;34m,\u001b[0m \u001b[0;34m**\u001b[0m\u001b[0mkwds\u001b[0m\u001b[0;34m)\u001b[0m  \u001b[0;31m# pylint: disable=not-callable\u001b[0m\u001b[0;34m\u001b[0m\u001b[0;34m\u001b[0m\u001b[0m\n\u001b[0m\u001b[1;32m    918\u001b[0m     \u001b[0;32melif\u001b[0m \u001b[0mself\u001b[0m\u001b[0;34m.\u001b[0m\u001b[0m_stateful_fn\u001b[0m \u001b[0;32mis\u001b[0m \u001b[0;32mnot\u001b[0m \u001b[0;32mNone\u001b[0m\u001b[0;34m:\u001b[0m\u001b[0;34m\u001b[0m\u001b[0;34m\u001b[0m\u001b[0m\n\u001b[1;32m    919\u001b[0m       \u001b[0;31m# Release the lock early so that multiple threads can perform the call\u001b[0m\u001b[0;34m\u001b[0m\u001b[0;34m\u001b[0m\u001b[0;34m\u001b[0m\u001b[0m\n",
            "\u001b[0;32m/usr/local/lib/python3.7/dist-packages/tensorflow/python/eager/function.py\u001b[0m in \u001b[0;36m__call__\u001b[0;34m(self, *args, **kwargs)\u001b[0m\n\u001b[1;32m   3038\u001b[0m        filtered_flat_args) = self._maybe_define_function(args, kwargs)\n\u001b[1;32m   3039\u001b[0m     return graph_function._call_flat(\n\u001b[0;32m-> 3040\u001b[0;31m         filtered_flat_args, captured_inputs=graph_function.captured_inputs)  # pylint: disable=protected-access\n\u001b[0m\u001b[1;32m   3041\u001b[0m \u001b[0;34m\u001b[0m\u001b[0m\n\u001b[1;32m   3042\u001b[0m   \u001b[0;34m@\u001b[0m\u001b[0mproperty\u001b[0m\u001b[0;34m\u001b[0m\u001b[0;34m\u001b[0m\u001b[0m\n",
            "\u001b[0;32m/usr/local/lib/python3.7/dist-packages/tensorflow/python/eager/function.py\u001b[0m in \u001b[0;36m_call_flat\u001b[0;34m(self, args, captured_inputs, cancellation_manager)\u001b[0m\n\u001b[1;32m   1962\u001b[0m       \u001b[0;31m# No tape is watching; skip to running the function.\u001b[0m\u001b[0;34m\u001b[0m\u001b[0;34m\u001b[0m\u001b[0;34m\u001b[0m\u001b[0m\n\u001b[1;32m   1963\u001b[0m       return self._build_call_outputs(self._inference_function.call(\n\u001b[0;32m-> 1964\u001b[0;31m           ctx, args, cancellation_manager=cancellation_manager))\n\u001b[0m\u001b[1;32m   1965\u001b[0m     forward_backward = self._select_forward_and_backward_functions(\n\u001b[1;32m   1966\u001b[0m         \u001b[0margs\u001b[0m\u001b[0;34m,\u001b[0m\u001b[0;34m\u001b[0m\u001b[0;34m\u001b[0m\u001b[0m\n",
            "\u001b[0;32m/usr/local/lib/python3.7/dist-packages/tensorflow/python/eager/function.py\u001b[0m in \u001b[0;36mcall\u001b[0;34m(self, ctx, args, cancellation_manager)\u001b[0m\n\u001b[1;32m    594\u001b[0m               \u001b[0minputs\u001b[0m\u001b[0;34m=\u001b[0m\u001b[0margs\u001b[0m\u001b[0;34m,\u001b[0m\u001b[0;34m\u001b[0m\u001b[0;34m\u001b[0m\u001b[0m\n\u001b[1;32m    595\u001b[0m               \u001b[0mattrs\u001b[0m\u001b[0;34m=\u001b[0m\u001b[0mattrs\u001b[0m\u001b[0;34m,\u001b[0m\u001b[0;34m\u001b[0m\u001b[0;34m\u001b[0m\u001b[0m\n\u001b[0;32m--> 596\u001b[0;31m               ctx=ctx)\n\u001b[0m\u001b[1;32m    597\u001b[0m         \u001b[0;32melse\u001b[0m\u001b[0;34m:\u001b[0m\u001b[0;34m\u001b[0m\u001b[0;34m\u001b[0m\u001b[0m\n\u001b[1;32m    598\u001b[0m           outputs = execute.execute_with_cancellation(\n",
            "\u001b[0;32m/usr/local/lib/python3.7/dist-packages/tensorflow/python/eager/execute.py\u001b[0m in \u001b[0;36mquick_execute\u001b[0;34m(op_name, num_outputs, inputs, attrs, ctx, name)\u001b[0m\n\u001b[1;32m     58\u001b[0m     \u001b[0mctx\u001b[0m\u001b[0;34m.\u001b[0m\u001b[0mensure_initialized\u001b[0m\u001b[0;34m(\u001b[0m\u001b[0;34m)\u001b[0m\u001b[0;34m\u001b[0m\u001b[0;34m\u001b[0m\u001b[0m\n\u001b[1;32m     59\u001b[0m     tensors = pywrap_tfe.TFE_Py_Execute(ctx._handle, device_name, op_name,\n\u001b[0;32m---> 60\u001b[0;31m                                         inputs, attrs, num_outputs)\n\u001b[0m\u001b[1;32m     61\u001b[0m   \u001b[0;32mexcept\u001b[0m \u001b[0mcore\u001b[0m\u001b[0;34m.\u001b[0m\u001b[0m_NotOkStatusException\u001b[0m \u001b[0;32mas\u001b[0m \u001b[0me\u001b[0m\u001b[0;34m:\u001b[0m\u001b[0;34m\u001b[0m\u001b[0;34m\u001b[0m\u001b[0m\n\u001b[1;32m     62\u001b[0m     \u001b[0;32mif\u001b[0m \u001b[0mname\u001b[0m \u001b[0;32mis\u001b[0m \u001b[0;32mnot\u001b[0m \u001b[0;32mNone\u001b[0m\u001b[0;34m:\u001b[0m\u001b[0;34m\u001b[0m\u001b[0;34m\u001b[0m\u001b[0m\n",
            "\u001b[0;31mKeyboardInterrupt\u001b[0m: "
          ]
        }
      ]
    },
    {
      "cell_type": "code",
      "metadata": {
        "id": "x75eX1FThOkz"
      },
      "source": [
        "cnn_l1 = cnn.Lasso(alpha=50,max_iter=100,tol=0.1)\n",
        "cnn_l1.fit(x_train, y_train, epochs=50, batch_size = 64, validation_data=(x_test, y_test))"
      ],
      "execution_count": null,
      "outputs": []
    }
  ]
}